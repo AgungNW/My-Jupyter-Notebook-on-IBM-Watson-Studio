{
 "cells": [
  {
   "cell_type": "markdown",
   "id": "17765921-148b-4426-afd8-cc6c24cb4b51",
   "metadata": {},
   "source": [
    "# My Jupyter Notebook on IBM Watson Studio"
   ]
  },
  {
   "cell_type": "code",
   "execution_count": 1,
   "id": "42cb2d7e-484a-43fb-8ec6-64977f9641ae",
   "metadata": {},
   "outputs": [
    {
     "name": "stdout",
     "output_type": "stream",
     "text": [
      "\u001b[1mMy name is Agung\u001b[0m\n",
      "I am a data scientist\n"
     ]
    }
   ],
   "source": [
    "print(\"\\033[1m\" + 'My name is Agung' + \"\\033[0m\")\n",
    "print('I am a data scientist')"
   ]
  },
  {
   "cell_type": "code",
   "execution_count": 2,
   "id": "29fb9c2e-7e35-4979-97e9-197d23b20885",
   "metadata": {},
   "outputs": [
    {
     "name": "stdout",
     "output_type": "stream",
     "text": [
      "\u001b[3mI am interested in data science because there is a lot of job demand in market\u001b[0m\n"
     ]
    }
   ],
   "source": [
    "print(f'\\033[3mI am interested in data science because there is a lot of job demand in market\\033[0m')"
   ]
  },
  {
   "cell_type": "markdown",
   "id": "a5725a54-50cf-4cb5-a136-7f0ffa8c0ffe",
   "metadata": {},
   "source": [
    "### Perform Multiplication Operations"
   ]
  },
  {
   "cell_type": "code",
   "execution_count": 3,
   "id": "8c1de055-3432-4d9d-b315-cefe410d67e3",
   "metadata": {},
   "outputs": [
    {
     "name": "stdin",
     "output_type": "stream",
     "text": [
      "Enter Number (a) =  12\n",
      "Enter Number (b) =  17\n"
     ]
    },
    {
     "name": "stdout",
     "output_type": "stream",
     "text": [
      "a times b equals  204.0\n"
     ]
    }
   ],
   "source": [
    "a=float(input(\"Enter Number (a) = \"))\n",
    "b=float(input(\"Enter Number (b) = \"))\n",
    "print(\"a times b equals \",a*b)"
   ]
  },
  {
   "cell_type": "markdown",
   "id": "7e6467d8-289c-4eaf-b118-41cbae99afe5",
   "metadata": {},
   "source": [
    "Name | Age | Gender\n",
    "--- | --- | ---\n",
    "Agung | 22 | Male"
   ]
  },
  {
   "cell_type": "code",
   "execution_count": null,
   "id": "ad3680a3-4837-402a-a5d0-7a5dd47a7be2",
   "metadata": {},
   "outputs": [],
   "source": []
  }
 ],
 "metadata": {
  "kernelspec": {
   "display_name": "Python",
   "language": "python",
   "name": "conda-env-python-py"
  },
  "language_info": {
   "codemirror_mode": {
    "name": "ipython",
    "version": 3
   },
   "file_extension": ".py",
   "mimetype": "text/x-python",
   "name": "python",
   "nbconvert_exporter": "python",
   "pygments_lexer": "ipython3",
   "version": "3.7.12"
  }
 },
 "nbformat": 4,
 "nbformat_minor": 5
}
